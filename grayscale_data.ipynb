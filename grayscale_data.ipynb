{
  "cells": [
    {
      "cell_type": "code",
      "execution_count": 1,
      "id": "initial_id",
      "metadata": {
        "collapsed": true,
        "ExecuteTime": {
          "end_time": "2024-06-06T08:16:49.358438Z",
          "start_time": "2024-06-06T08:16:45.819408Z"
        }
      },
      "outputs": [],
      "source": [
        "import tensorflow as tf\n",
        "from tensorflow.keras.models import Sequential\n",
        "from tensorflow.keras.layers import Dense, Dropout, GlobalAveragePooling2D\n",
        "from tensorflow.keras.applications import MobileNetV2\n",
        "from tensorflow.keras.callbacks import EarlyStopping, ReduceLROnPlateau\n",
        "import matplotlib.pyplot as plt\n",
        "import numpy as np\n",
        "from sklearn.metrics import confusion_matrix\n",
        "import seaborn as sns"
      ]
    },
    {
      "cell_type": "code",
      "outputs": [],
      "source": [
        "# Load and preprocess the data\n",
        "data_dir = 'data_grayscale'"
      ],
      "metadata": {
        "collapsed": false,
        "ExecuteTime": {
          "end_time": "2024-06-06T08:16:58.458641Z",
          "start_time": "2024-06-06T08:16:58.455377Z"
        }
      },
      "id": "4c9986fe25afa6da",
      "execution_count": 2
    },
    {
      "cell_type": "code",
      "outputs": [
        {
          "name": "stdout",
          "output_type": "stream",
          "text": [
            "Found 5740 files belonging to 22 classes.\n",
            "Using 4018 files for training.\n",
            "Found 5740 files belonging to 22 classes.\n",
            "Using 1722 files for validation.\n"
          ]
        }
      ],
      "source": [
        "# Load dataset with a validation split = 30%\n",
        "data = tf.keras.utils.image_dataset_from_directory(\n",
        "    data_dir,\n",
        "    image_size=(160, 160),\n",
        "    batch_size=32,\n",
        "    seed=42,\n",
        "    validation_split=0.3,\n",
        "    subset='training'\n",
        ")\n",
        "\n",
        "val_test_data = tf.keras.utils.image_dataset_from_directory(\n",
        "    data_dir,\n",
        "    image_size=(160, 160),\n",
        "    batch_size=32,\n",
        "    seed=42,\n",
        "    validation_split=0.3,\n",
        "    subset='validation'\n",
        ")"
      ],
      "metadata": {
        "collapsed": false,
        "ExecuteTime": {
          "end_time": "2024-06-06T08:17:06.918899Z",
          "start_time": "2024-06-06T08:17:06.388643Z"
        }
      },
      "id": "1bf99faa8f4ba342",
      "execution_count": 3
    },
    {
      "cell_type": "code",
      "outputs": [],
      "source": [
        "# Get the class names before mapping\n",
        "class_names = data.class_names"
      ],
      "metadata": {
        "collapsed": false,
        "ExecuteTime": {
          "end_time": "2024-06-06T08:17:14.526670Z",
          "start_time": "2024-06-06T08:17:14.517109Z"
        }
      },
      "id": "5a950702006d8f0c",
      "execution_count": 4
    },
    {
      "cell_type": "code",
      "outputs": [],
      "source": [
        "# Split the val_test_data into validation and test sets\n",
        "val_batches = tf.data.experimental.cardinality(val_test_data)\n",
        "test_size = val_batches // 2\n",
        "val_data = val_test_data.skip(test_size)\n",
        "test_data = val_test_data.take(test_size)"
      ],
      "metadata": {
        "collapsed": false,
        "ExecuteTime": {
          "end_time": "2024-06-06T08:17:20.683211Z",
          "start_time": "2024-06-06T08:17:20.653446Z"
        }
      },
      "id": "ace470ac1ab42d5f",
      "execution_count": 5
    },
    {
      "cell_type": "code",
      "outputs": [],
      "source": [
        "# Normalize the images\n",
        "data = data.map(lambda x, y: (x / 255.0, tf.one_hot(y, len(class_names))))\n",
        "val_data = val_data.map(lambda x, y: (x / 255.0, tf.one_hot(y, len(class_names))))\n",
        "test_data = test_data.map(lambda x, y: (x / 255.0, tf.one_hot(y, len(class_names))))"
      ],
      "metadata": {
        "collapsed": false,
        "ExecuteTime": {
          "end_time": "2024-06-06T08:17:27.504917Z",
          "start_time": "2024-06-06T08:17:27.453241Z"
        }
      },
      "id": "8452a8e0047e93cb",
      "execution_count": 6
    },
    {
      "cell_type": "code",
      "outputs": [],
      "source": [
        "# Load pre-trained MobileNetV2 model + higher level layers\n",
        "weights_path = 'mobilenet_v2_weights_tf_dim_ordering_tf_kernels_1.0_160_no_top.h5'\n",
        "base_model = MobileNetV2(input_shape=(160, 160, 3), include_top=False, weights=None)\n",
        "base_model.load_weights(weights_path)\n",
        "base_model.trainable = False  # Freeze the base model"
      ],
      "metadata": {
        "collapsed": false,
        "ExecuteTime": {
          "end_time": "2024-06-06T08:17:34.113244Z",
          "start_time": "2024-06-06T08:17:33.745327Z"
        }
      },
      "id": "3eaf25d890815ab4",
      "execution_count": 7
    },
    {
      "cell_type": "code",
      "outputs": [],
      "source": [
        "# Build the model\n",
        "model = Sequential([\n",
        "    base_model,\n",
        "    GlobalAveragePooling2D(),\n",
        "    Dense(512, activation='relu'),\n",
        "    Dropout(0.5),\n",
        "    Dense(len(class_names), activation='softmax')\n",
        "])\n",
        "\n",
        "model.compile(optimizer=tf.keras.optimizers.Adam(learning_rate=0.0001), loss='categorical_crossentropy', metrics=['accuracy'])"
      ],
      "metadata": {
        "collapsed": false,
        "ExecuteTime": {
          "end_time": "2024-06-06T08:17:41.328604Z",
          "start_time": "2024-06-06T08:17:41.304502Z"
        }
      },
      "id": "3719fd36b35e5daa",
      "execution_count": 8
    },
    {
      "cell_type": "code",
      "outputs": [],
      "source": [
        "# Implement Early Stopping and ReduceLROnPlateau\n",
        "early_stopping = EarlyStopping(monitor='val_loss', patience=10, restore_best_weights=True)\n",
        "reduce_lr = ReduceLROnPlateau(monitor='val_loss', factor=0.2, patience=5, min_lr=0.00001)"
      ],
      "metadata": {
        "collapsed": false,
        "ExecuteTime": {
          "end_time": "2024-06-06T08:17:48.642982Z",
          "start_time": "2024-06-06T08:17:48.633342Z"
        }
      },
      "id": "173859b4c8e017b3",
      "execution_count": 9
    },
    {
      "cell_type": "code",
      "outputs": [
        {
          "name": "stdout",
          "output_type": "stream",
          "text": [
            "Epoch 1/100\n",
            "\u001b[1m126/126\u001b[0m \u001b[32m\u2501\u2501\u2501\u2501\u2501\u2501\u2501\u2501\u2501\u2501\u2501\u2501\u2501\u2501\u2501\u2501\u2501\u2501\u2501\u2501\u001b[0m\u001b[37m\u001b[0m \u001b[1m24s\u001b[0m 172ms/step - accuracy: 0.3595 - loss: 2.4045 - val_accuracy: 0.5769 - val_loss: 1.3880 - learning_rate: 1.0000e-04\n",
            "Epoch 2/100\n",
            "\u001b[1m126/126\u001b[0m \u001b[32m\u2501\u2501\u2501\u2501\u2501\u2501\u2501\u2501\u2501\u2501\u2501\u2501\u2501\u2501\u2501\u2501\u2501\u2501\u2501\u2501\u001b[0m\u001b[37m\u001b[0m \u001b[1m22s\u001b[0m 173ms/step - accuracy: 0.5475 - loss: 1.5054 - val_accuracy: 0.6469 - val_loss: 1.1340 - learning_rate: 1.0000e-04\n",
            "Epoch 3/100\n",
            "\u001b[1m126/126\u001b[0m \u001b[32m\u2501\u2501\u2501\u2501\u2501\u2501\u2501\u2501\u2501\u2501\u2501\u2501\u2501\u2501\u2501\u2501\u2501\u2501\u2501\u2501\u001b[0m\u001b[37m\u001b[0m \u001b[1m20s\u001b[0m 159ms/step - accuracy: 0.6133 - loss: 1.2480 - val_accuracy: 0.6690 - val_loss: 1.0218 - learning_rate: 1.0000e-04\n",
            "Epoch 4/100\n",
            "\u001b[1m126/126\u001b[0m \u001b[32m\u2501\u2501\u2501\u2501\u2501\u2501\u2501\u2501\u2501\u2501\u2501\u2501\u2501\u2501\u2501\u2501\u2501\u2501\u2501\u2501\u001b[0m\u001b[37m\u001b[0m \u001b[1m20s\u001b[0m 154ms/step - accuracy: 0.6405 - loss: 1.1234 - val_accuracy: 0.6981 - val_loss: 0.9263 - learning_rate: 1.0000e-04\n",
            "Epoch 5/100\n",
            "\u001b[1m126/126\u001b[0m \u001b[32m\u2501\u2501\u2501\u2501\u2501\u2501\u2501\u2501\u2501\u2501\u2501\u2501\u2501\u2501\u2501\u2501\u2501\u2501\u2501\u2501\u001b[0m\u001b[37m\u001b[0m \u001b[1m21s\u001b[0m 163ms/step - accuracy: 0.6744 - loss: 1.0109 - val_accuracy: 0.7086 - val_loss: 0.8594 - learning_rate: 1.0000e-04\n",
            "Epoch 6/100\n",
            "\u001b[1m126/126\u001b[0m \u001b[32m\u2501\u2501\u2501\u2501\u2501\u2501\u2501\u2501\u2501\u2501\u2501\u2501\u2501\u2501\u2501\u2501\u2501\u2501\u2501\u2501\u001b[0m\u001b[37m\u001b[0m \u001b[1m21s\u001b[0m 162ms/step - accuracy: 0.7053 - loss: 0.9311 - val_accuracy: 0.7179 - val_loss: 0.8306 - learning_rate: 1.0000e-04\n",
            "Epoch 7/100\n",
            "\u001b[1m 67/126\u001b[0m \u001b[32m\u2501\u2501\u2501\u2501\u2501\u2501\u2501\u2501\u2501\u2501\u001b[0m\u001b[37m\u2501\u2501\u2501\u2501\u2501\u2501\u2501\u2501\u2501\u2501\u001b[0m \u001b[1m7s\u001b[0m 128ms/step - accuracy: 0.7185 - loss: 0.8825"
          ]
        }
      ],
      "source": [
        "# Train the model\n",
        "history = model.fit(data, validation_data=val_data, epochs=100, callbacks=[early_stopping, reduce_lr])"
      ],
      "metadata": {
        "collapsed": false,
        "is_executing": true,
        "ExecuteTime": {
          "start_time": "2024-06-06T08:17:55.913065Z"
        }
      },
      "id": "f8dea165576729e6",
      "execution_count": null
    },
    {
      "cell_type": "code",
      "outputs": [],
      "source": [
        "# Unfreeze some layers in the base model for fine-tuning\n",
        "base_model.trainable = True\n",
        "fine_tune_at = 100  # Fine-tune from this layer onwards\n",
        "\n",
        "for layer in base_model.layers[:fine_tune_at]:\n",
        "    layer.trainable = False\n",
        "\n",
        "model.compile(optimizer=tf.keras.optimizers.Adam(learning_rate=0.00001), loss='categorical_crossentropy', metrics=['accuracy'])"
      ],
      "metadata": {
        "collapsed": false,
        "is_executing": true
      },
      "id": "1f189267ee472aa4",
      "execution_count": null
    },
    {
      "cell_type": "code",
      "outputs": [],
      "source": [
        "# Continue training the model\n",
        "history_fine = model.fit(data, validation_data=val_data, epochs=100, callbacks=[early_stopping, reduce_lr])"
      ],
      "metadata": {
        "collapsed": false,
        "is_executing": true
      },
      "id": "a43a02543fe4500c",
      "execution_count": null
    },
    {
      "cell_type": "code",
      "outputs": [],
      "source": [
        "# Plot the training history\n",
        "def plot_history(history, title):\n",
        "    fig, (ax1, ax2) = plt.subplots(1, 2, figsize=(12, 4))\n",
        "    ax1.plot(history.history['accuracy'], label='Train Accuracy')\n",
        "    ax1.plot(history.history['val_accuracy'], label='Validation Accuracy')\n",
        "    ax1.legend()\n",
        "    ax1.set_title(f'{title} - Accuracy')\n",
        "\n",
        "    ax2.plot(history.history['loss'], label='Train Loss')\n",
        "    ax2.plot(history.history['val_loss'], label='Validation Loss')\n",
        "    ax2.legend()\n",
        "    ax2.set_title(f'{title} - Loss')\n",
        "\n",
        "    plt.show()\n",
        "\n",
        "plot_history(history, 'Initial Training')\n",
        "plot_history(history_fine, 'Fine-tuning')"
      ],
      "metadata": {
        "collapsed": false,
        "is_executing": true
      },
      "id": "d941c9dd7170c2f7",
      "execution_count": null
    },
    {
      "cell_type": "code",
      "outputs": [],
      "source": [
        "# Evaluate the model on the validation set\n",
        "val_loss, val_accuracy = model.evaluate(val_data)\n",
        "print(f'Validation Accuracy: {val_accuracy * 100:.2f}%')\n",
        "\n",
        "# Evaluate the model on the test set\n",
        "test_loss, test_accuracy = model.evaluate(test_data)\n",
        "print(f'Test Accuracy: {test_accuracy * 100:.2f}%')"
      ],
      "metadata": {
        "collapsed": false,
        "is_executing": true
      },
      "id": "a5958e8dda3fb8c8",
      "execution_count": null
    },
    {
      "cell_type": "code",
      "outputs": [],
      "source": [
        "# Generate confusion matrix for the test set\n",
        "test_data_unbatched = test_data.unbatch()\n",
        "y_pred = []\n",
        "y_true = []\n",
        "\n",
        "for x, y in test_data_unbatched:\n",
        "    x = tf.expand_dims(x, axis=0)\n",
        "    pred = model.predict(x)\n",
        "    y_pred.append(np.argmax(pred))\n",
        "    y_true.append(np.argmax(y.numpy()))\n",
        "\n",
        "y_pred = np.array(y_pred)\n",
        "y_true = np.array(y_true)\n",
        "\n",
        "# Ensure the true and predicted labels contain the same number of classes\n",
        "all_classes = np.arange(len(class_names))\n",
        "\n",
        "# Compute confusion matrix\n",
        "cm = confusion_matrix(y_true, y_pred, labels=all_classes)"
      ],
      "metadata": {
        "collapsed": false,
        "is_executing": true
      },
      "id": "9525955a9f85ebbe",
      "execution_count": null
    },
    {
      "cell_type": "code",
      "outputs": [],
      "source": [
        "def plot_confusion_matrix(cm, classes, normalize=False, title='Confusion matrix', cmap=plt.cm.Blues):\n",
        "    if normalize:\n",
        "        with np.errstate(all='ignore'):\n",
        "            cm = cm.astype('float') / cm.sum(axis=1)[:, np.newaxis]\n",
        "            cm = np.nan_to_num(cm)  # Replace nan with 0 and inf with large finite numbers\n",
        "        print(\"Normalized confusion matrix\")\n",
        "    else:\n",
        "        print(\"Confusion matrix, without normalization\")\n",
        "        \n",
        "    plt.figure(figsize=(9, 7))\n",
        "    sns.heatmap(cm, annot=True, fmt='.2f' if normalize else 'd', cmap=cmap, xticklabels=classes, yticklabels=classes, annot_kws={\"size\": 8})\n",
        "    plt.title(title, fontsize=12)\n",
        "    plt.ylabel('True label', fontsize=12)\n",
        "    plt.xlabel('Predicted label', fontsize=12)\n",
        "    plt.xticks(fontsize=10)\n",
        "    plt.yticks(fontsize=10)\n",
        "    plt.show()\n",
        "\n",
        "# Plot non-normalized confusion matrix\n",
        "plot_confusion_matrix(cm, classes=class_names, title='Confusion matrix, without normalization')\n",
        "\n",
        "# Plot normalized confusion matrix\n",
        "plot_confusion_matrix(cm, classes=class_names, normalize=True, title='Normalized confusion matrix')\n"
      ],
      "metadata": {
        "collapsed": false,
        "is_executing": true
      },
      "id": "d486e1292c5cadb3",
      "execution_count": null
    },
    {
      "cell_type": "code",
      "outputs": [],
      "source": [
        "import os\n",
        "\n",
        "# File path for the saved model\n",
        "model_file_path = './models/fabric_classification_model_grayscale_v2.keras'  # Changed the file name to ensure it doesn't exist\n",
        "\n",
        "# Check if the file already exists and remove it (optional, since we are using a new name)\n",
        "if os.path.exists(model_file_path):\n",
        "    os.remove(model_file_path)\n",
        "\n",
        "# Save the trained model to a file using the recommended format\n",
        "model.save(model_file_path)"
      ],
      "metadata": {
        "collapsed": false
      },
      "id": "564b33b3b976e4a",
      "execution_count": null
    }
  ],
  "metadata": {
    "kernelspec": {
      "display_name": "Python 3",
      "language": "python",
      "name": "python3"
    },
    "language_info": {
      "codemirror_mode": {
        "name": "ipython",
        "version": 2
      },
      "file_extension": ".py",
      "mimetype": "text/x-python",
      "name": "python",
      "nbconvert_exporter": "python",
      "pygments_lexer": "ipython2",
      "version": "2.7.6"
    }
  },
  "nbformat": 4,
  "nbformat_minor": 5
}