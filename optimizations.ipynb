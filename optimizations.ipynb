{
 "cells": [
  {
   "cell_type": "code",
   "execution_count": 1,
   "id": "initial_id",
   "metadata": {
    "collapsed": true,
    "ExecuteTime": {
     "end_time": "2024-06-05T17:56:20.886297Z",
     "start_time": "2024-06-05T17:56:16.731872Z"
    }
   },
   "outputs": [],
   "source": [
    "import tensorflow as tf\n",
    "from tensorflow.keras.models import Sequential\n",
    "from tensorflow.keras.layers import Dense, Dropout, GlobalAveragePooling2D\n",
    "from tensorflow.keras.applications import MobileNetV2\n",
    "from tensorflow.keras.callbacks import EarlyStopping, ReduceLROnPlateau\n",
    "import matplotlib.pyplot as plt\n",
    "import numpy as np\n",
    "from sklearn.metrics import confusion_matrix\n",
    "import seaborn as sns"
   ]
  },
  {
   "cell_type": "code",
   "outputs": [],
   "source": [
    "# Load and preprocess the data\n",
    "data_dir = 'data_noise_reduction'"
   ],
   "metadata": {
    "collapsed": false,
    "ExecuteTime": {
     "end_time": "2024-06-05T17:58:46.170768Z",
     "start_time": "2024-06-05T17:58:46.156699Z"
    }
   },
   "id": "fee71e6e797af71e",
   "execution_count": 10
  },
  {
   "cell_type": "code",
   "outputs": [
    {
     "name": "stdout",
     "output_type": "stream",
     "text": [
      "Found 5740 files belonging to 22 classes.\n",
      "Using 4018 files for training.\n",
      "Found 5740 files belonging to 22 classes.\n",
      "Using 1722 files for validation.\n"
     ]
    }
   ],
   "source": [
    "# Load dataset with a validation split = 30%\n",
    "data = tf.keras.utils.image_dataset_from_directory(\n",
    "    data_dir,\n",
    "    image_size=(160, 160),\n",
    "    batch_size=32,\n",
    "    seed=42,\n",
    "    validation_split=0.3,\n",
    "    subset='training'\n",
    ")\n",
    "\n",
    "val_test_data = tf.keras.utils.image_dataset_from_directory(\n",
    "    data_dir,\n",
    "    image_size=(160, 160),\n",
    "    batch_size=32,\n",
    "    seed=42,\n",
    "    validation_split=0.3,\n",
    "    subset='validation'\n",
    ")"
   ],
   "metadata": {
    "collapsed": false,
    "ExecuteTime": {
     "end_time": "2024-06-05T17:58:47.165084Z",
     "start_time": "2024-06-05T17:58:46.683114Z"
    }
   },
   "id": "59727a67a4676750",
   "execution_count": 11
  },
  {
   "cell_type": "code",
   "outputs": [],
   "source": [
    "# Get the class names before mapping\n",
    "class_names = data.class_names"
   ],
   "metadata": {
    "collapsed": false,
    "ExecuteTime": {
     "end_time": "2024-06-05T17:58:47.867787Z",
     "start_time": "2024-06-05T17:58:47.864824Z"
    }
   },
   "id": "9583c8fdef8b2461",
   "execution_count": 12
  },
  {
   "cell_type": "code",
   "outputs": [],
   "source": [
    "# Split the val_test_data into validation and test sets\n",
    "val_batches = tf.data.experimental.cardinality(val_test_data)\n",
    "test_size = val_batches // 2\n",
    "val_data = val_test_data.skip(test_size)\n",
    "test_data = val_test_data.take(test_size)"
   ],
   "metadata": {
    "collapsed": false,
    "ExecuteTime": {
     "end_time": "2024-06-05T17:58:48.461398Z",
     "start_time": "2024-06-05T17:58:48.451382Z"
    }
   },
   "id": "8a89e0e07a922dc7",
   "execution_count": 13
  },
  {
   "cell_type": "code",
   "outputs": [],
   "source": [
    "# Normalize the images\n",
    "data = data.map(lambda x, y: (x / 255.0, tf.one_hot(y, len(class_names))))\n",
    "val_data = val_data.map(lambda x, y: (x / 255.0, tf.one_hot(y, len(class_names))))\n",
    "test_data = test_data.map(lambda x, y: (x / 255.0, tf.one_hot(y, len(class_names))))"
   ],
   "metadata": {
    "collapsed": false,
    "ExecuteTime": {
     "end_time": "2024-06-05T17:58:49.037791Z",
     "start_time": "2024-06-05T17:58:49.016740Z"
    }
   },
   "id": "ff13813c77c1968e",
   "execution_count": 14
  },
  {
   "cell_type": "code",
   "outputs": [],
   "source": [
    "# Load pre-trained MobileNetV2 model + higher level layers\n",
    "weights_path = 'mobilenet_v2_weights_tf_dim_ordering_tf_kernels_1.0_160_no_top.h5'\n",
    "base_model = MobileNetV2(input_shape=(160, 160, 3), include_top=False, weights=None)\n",
    "base_model.load_weights(weights_path)\n",
    "base_model.trainable = False  # Freeze the base model"
   ],
   "metadata": {
    "collapsed": false,
    "ExecuteTime": {
     "end_time": "2024-06-05T17:58:49.697754Z",
     "start_time": "2024-06-05T17:58:49.496558Z"
    }
   },
   "id": "d29b4c77b2a2f9c4",
   "execution_count": 15
  },
  {
   "cell_type": "code",
   "outputs": [],
   "source": [
    "# Build the model\n",
    "model = Sequential([\n",
    "    base_model,\n",
    "    GlobalAveragePooling2D(),\n",
    "    Dense(512, activation='relu'),\n",
    "    Dropout(0.5),\n",
    "    Dense(len(class_names), activation='softmax')\n",
    "])\n",
    "\n",
    "model.compile(optimizer=tf.keras.optimizers.Adam(learning_rate=0.0001), loss='categorical_crossentropy', metrics=['accuracy'])"
   ],
   "metadata": {
    "collapsed": false,
    "ExecuteTime": {
     "end_time": "2024-06-05T17:58:50.175140Z",
     "start_time": "2024-06-05T17:58:50.168313Z"
    }
   },
   "id": "cba42d0052631614",
   "execution_count": 16
  },
  {
   "cell_type": "code",
   "outputs": [],
   "source": [
    "# Implement Early Stopping and ReduceLROnPlateau\n",
    "early_stopping = EarlyStopping(monitor='val_loss', patience=10, restore_best_weights=True)\n",
    "reduce_lr = ReduceLROnPlateau(monitor='val_loss', factor=0.2, patience=5, min_lr=0.00001)"
   ],
   "metadata": {
    "collapsed": false,
    "ExecuteTime": {
     "end_time": "2024-06-05T17:58:51.488373Z",
     "start_time": "2024-06-05T17:58:51.484745Z"
    }
   },
   "id": "d1a567f3ffd199a4",
   "execution_count": 17
  },
  {
   "cell_type": "code",
   "outputs": [
    {
     "name": "stdout",
     "output_type": "stream",
     "text": [
      "Epoch 1/100\n",
      "\u001B[1m126/126\u001B[0m \u001B[32m━━━━━━━━━━━━━━━━━━━━\u001B[0m\u001B[37m\u001B[0m \u001B[1m25s\u001B[0m 186ms/step - accuracy: 0.3682 - loss: 2.4014 - val_accuracy: 0.5606 - val_loss: 1.4845 - learning_rate: 1.0000e-04\n",
      "Epoch 2/100\n",
      "\u001B[1m126/126\u001B[0m \u001B[32m━━━━━━━━━━━━━━━━━━━━\u001B[0m\u001B[37m\u001B[0m \u001B[1m21s\u001B[0m 166ms/step - accuracy: 0.5491 - loss: 1.5517 - val_accuracy: 0.6084 - val_loss: 1.2441 - learning_rate: 1.0000e-04\n",
      "Epoch 3/100\n",
      "\u001B[1m126/126\u001B[0m \u001B[32m━━━━━━━━━━━━━━━━━━━━\u001B[0m\u001B[37m\u001B[0m \u001B[1m24s\u001B[0m 186ms/step - accuracy: 0.5839 - loss: 1.3253 - val_accuracy: 0.6422 - val_loss: 1.1127 - learning_rate: 1.0000e-04\n",
      "Epoch 4/100\n",
      "\u001B[1m126/126\u001B[0m \u001B[32m━━━━━━━━━━━━━━━━━━━━\u001B[0m\u001B[37m\u001B[0m \u001B[1m22s\u001B[0m 172ms/step - accuracy: 0.6295 - loss: 1.1721 - val_accuracy: 0.6538 - val_loss: 1.0119 - learning_rate: 1.0000e-04\n",
      "Epoch 5/100\n",
      "\u001B[1m126/126\u001B[0m \u001B[32m━━━━━━━━━━━━━━━━━━━━\u001B[0m\u001B[37m\u001B[0m \u001B[1m21s\u001B[0m 165ms/step - accuracy: 0.6544 - loss: 1.0605 - val_accuracy: 0.6795 - val_loss: 0.9418 - learning_rate: 1.0000e-04\n",
      "Epoch 6/100\n",
      "\u001B[1m126/126\u001B[0m \u001B[32m━━━━━━━━━━━━━━━━━━━━\u001B[0m\u001B[37m\u001B[0m \u001B[1m21s\u001B[0m 162ms/step - accuracy: 0.6709 - loss: 0.9959 - val_accuracy: 0.6993 - val_loss: 0.8862 - learning_rate: 1.0000e-04\n",
      "Epoch 7/100\n",
      "\u001B[1m126/126\u001B[0m \u001B[32m━━━━━━━━━━━━━━━━━━━━\u001B[0m\u001B[37m\u001B[0m \u001B[1m20s\u001B[0m 157ms/step - accuracy: 0.6938 - loss: 0.9201 - val_accuracy: 0.7203 - val_loss: 0.8445 - learning_rate: 1.0000e-04\n",
      "Epoch 8/100\n",
      "\u001B[1m126/126\u001B[0m \u001B[32m━━━━━━━━━━━━━━━━━━━━\u001B[0m\u001B[37m\u001B[0m \u001B[1m20s\u001B[0m 154ms/step - accuracy: 0.7204 - loss: 0.8603 - val_accuracy: 0.7308 - val_loss: 0.7709 - learning_rate: 1.0000e-04\n",
      "Epoch 9/100\n",
      "\u001B[1m126/126\u001B[0m \u001B[32m━━━━━━━━━━━━━━━━━━━━\u001B[0m\u001B[37m\u001B[0m \u001B[1m20s\u001B[0m 154ms/step - accuracy: 0.7328 - loss: 0.8181 - val_accuracy: 0.7343 - val_loss: 0.7869 - learning_rate: 1.0000e-04\n",
      "Epoch 10/100\n",
      "\u001B[1m126/126\u001B[0m \u001B[32m━━━━━━━━━━━━━━━━━━━━\u001B[0m\u001B[37m\u001B[0m \u001B[1m20s\u001B[0m 153ms/step - accuracy: 0.7499 - loss: 0.7461 - val_accuracy: 0.7343 - val_loss: 0.7627 - learning_rate: 1.0000e-04\n",
      "Epoch 11/100\n",
      "\u001B[1m126/126\u001B[0m \u001B[32m━━━━━━━━━━━━━━━━━━━━\u001B[0m\u001B[37m\u001B[0m \u001B[1m20s\u001B[0m 153ms/step - accuracy: 0.7584 - loss: 0.7108 - val_accuracy: 0.7471 - val_loss: 0.7446 - learning_rate: 1.0000e-04\n",
      "Epoch 12/100\n",
      "\u001B[1m126/126\u001B[0m \u001B[32m━━━━━━━━━━━━━━━━━━━━\u001B[0m\u001B[37m\u001B[0m \u001B[1m20s\u001B[0m 158ms/step - accuracy: 0.7733 - loss: 0.6701 - val_accuracy: 0.7704 - val_loss: 0.6893 - learning_rate: 1.0000e-04\n",
      "Epoch 13/100\n",
      "\u001B[1m126/126\u001B[0m \u001B[32m━━━━━━━━━━━━━━━━━━━━\u001B[0m\u001B[37m\u001B[0m \u001B[1m21s\u001B[0m 162ms/step - accuracy: 0.7966 - loss: 0.6375 - val_accuracy: 0.7762 - val_loss: 0.6615 - learning_rate: 1.0000e-04\n",
      "Epoch 14/100\n",
      "\u001B[1m126/126\u001B[0m \u001B[32m━━━━━━━━━━━━━━━━━━━━\u001B[0m\u001B[37m\u001B[0m \u001B[1m26s\u001B[0m 206ms/step - accuracy: 0.7891 - loss: 0.6166 - val_accuracy: 0.7832 - val_loss: 0.6286 - learning_rate: 1.0000e-04\n",
      "Epoch 15/100\n",
      "\u001B[1m126/126\u001B[0m \u001B[32m━━━━━━━━━━━━━━━━━━━━\u001B[0m\u001B[37m\u001B[0m \u001B[1m37s\u001B[0m 287ms/step - accuracy: 0.8149 - loss: 0.5823 - val_accuracy: 0.7867 - val_loss: 0.6257 - learning_rate: 1.0000e-04\n",
      "Epoch 16/100\n",
      "\u001B[1m126/126\u001B[0m \u001B[32m━━━━━━━━━━━━━━━━━━━━\u001B[0m\u001B[37m\u001B[0m \u001B[1m31s\u001B[0m 241ms/step - accuracy: 0.8045 - loss: 0.5755 - val_accuracy: 0.7855 - val_loss: 0.6281 - learning_rate: 1.0000e-04\n",
      "Epoch 17/100\n",
      "\u001B[1m126/126\u001B[0m \u001B[32m━━━━━━━━━━━━━━━━━━━━\u001B[0m\u001B[37m\u001B[0m \u001B[1m27s\u001B[0m 212ms/step - accuracy: 0.8115 - loss: 0.5482 - val_accuracy: 0.7855 - val_loss: 0.6168 - learning_rate: 1.0000e-04\n",
      "Epoch 18/100\n",
      "\u001B[1m126/126\u001B[0m \u001B[32m━━━━━━━━━━━━━━━━━━━━\u001B[0m\u001B[37m\u001B[0m \u001B[1m25s\u001B[0m 195ms/step - accuracy: 0.8300 - loss: 0.5129 - val_accuracy: 0.7984 - val_loss: 0.5949 - learning_rate: 1.0000e-04\n",
      "Epoch 19/100\n",
      "\u001B[1m126/126\u001B[0m \u001B[32m━━━━━━━━━━━━━━━━━━━━\u001B[0m\u001B[37m\u001B[0m \u001B[1m24s\u001B[0m 184ms/step - accuracy: 0.8313 - loss: 0.5058 - val_accuracy: 0.7902 - val_loss: 0.6043 - learning_rate: 1.0000e-04\n",
      "Epoch 20/100\n",
      "\u001B[1m126/126\u001B[0m \u001B[32m━━━━━━━━━━━━━━━━━━━━\u001B[0m\u001B[37m\u001B[0m \u001B[1m29s\u001B[0m 229ms/step - accuracy: 0.8376 - loss: 0.4837 - val_accuracy: 0.8042 - val_loss: 0.5783 - learning_rate: 1.0000e-04\n",
      "Epoch 21/100\n",
      "\u001B[1m126/126\u001B[0m \u001B[32m━━━━━━━━━━━━━━━━━━━━\u001B[0m\u001B[37m\u001B[0m \u001B[1m26s\u001B[0m 200ms/step - accuracy: 0.8455 - loss: 0.4594 - val_accuracy: 0.8112 - val_loss: 0.5537 - learning_rate: 1.0000e-04\n",
      "Epoch 22/100\n",
      "\u001B[1m126/126\u001B[0m \u001B[32m━━━━━━━━━━━━━━━━━━━━\u001B[0m\u001B[37m\u001B[0m \u001B[1m25s\u001B[0m 197ms/step - accuracy: 0.8460 - loss: 0.4611 - val_accuracy: 0.8159 - val_loss: 0.5499 - learning_rate: 1.0000e-04\n",
      "Epoch 23/100\n",
      "\u001B[1m126/126\u001B[0m \u001B[32m━━━━━━━━━━━━━━━━━━━━\u001B[0m\u001B[37m\u001B[0m \u001B[1m26s\u001B[0m 205ms/step - accuracy: 0.8573 - loss: 0.4347 - val_accuracy: 0.8159 - val_loss: 0.5337 - learning_rate: 1.0000e-04\n",
      "Epoch 24/100\n",
      "\u001B[1m126/126\u001B[0m \u001B[32m━━━━━━━━━━━━━━━━━━━━\u001B[0m\u001B[37m\u001B[0m \u001B[1m25s\u001B[0m 193ms/step - accuracy: 0.8519 - loss: 0.4261 - val_accuracy: 0.8054 - val_loss: 0.5320 - learning_rate: 1.0000e-04\n",
      "Epoch 25/100\n",
      "\u001B[1m126/126\u001B[0m \u001B[32m━━━━━━━━━━━━━━━━━━━━\u001B[0m\u001B[37m\u001B[0m \u001B[1m25s\u001B[0m 194ms/step - accuracy: 0.8673 - loss: 0.4060 - val_accuracy: 0.8263 - val_loss: 0.5188 - learning_rate: 1.0000e-04\n",
      "Epoch 26/100\n",
      "\u001B[1m126/126\u001B[0m \u001B[32m━━━━━━━━━━━━━━━━━━━━\u001B[0m\u001B[37m\u001B[0m \u001B[1m25s\u001B[0m 191ms/step - accuracy: 0.8631 - loss: 0.3986 - val_accuracy: 0.8182 - val_loss: 0.5173 - learning_rate: 1.0000e-04\n",
      "Epoch 27/100\n",
      "\u001B[1m126/126\u001B[0m \u001B[32m━━━━━━━━━━━━━━━━━━━━\u001B[0m\u001B[37m\u001B[0m \u001B[1m25s\u001B[0m 192ms/step - accuracy: 0.8782 - loss: 0.3845 - val_accuracy: 0.8217 - val_loss: 0.5073 - learning_rate: 1.0000e-04\n",
      "Epoch 28/100\n",
      "\u001B[1m126/126\u001B[0m \u001B[32m━━━━━━━━━━━━━━━━━━━━\u001B[0m\u001B[37m\u001B[0m \u001B[1m26s\u001B[0m 199ms/step - accuracy: 0.8809 - loss: 0.3687 - val_accuracy: 0.8089 - val_loss: 0.5277 - learning_rate: 1.0000e-04\n",
      "Epoch 29/100\n",
      "\u001B[1m126/126\u001B[0m \u001B[32m━━━━━━━━━━━━━━━━━━━━\u001B[0m\u001B[37m\u001B[0m \u001B[1m26s\u001B[0m 203ms/step - accuracy: 0.8911 - loss: 0.3399 - val_accuracy: 0.8217 - val_loss: 0.5008 - learning_rate: 1.0000e-04\n",
      "Epoch 30/100\n",
      "\u001B[1m126/126\u001B[0m \u001B[32m━━━━━━━━━━━━━━━━━━━━\u001B[0m\u001B[37m\u001B[0m \u001B[1m25s\u001B[0m 199ms/step - accuracy: 0.8882 - loss: 0.3419 - val_accuracy: 0.8217 - val_loss: 0.5030 - learning_rate: 1.0000e-04\n",
      "Epoch 31/100\n",
      "\u001B[1m126/126\u001B[0m \u001B[32m━━━━━━━━━━━━━━━━━━━━\u001B[0m\u001B[37m\u001B[0m \u001B[1m29s\u001B[0m 229ms/step - accuracy: 0.8852 - loss: 0.3267 - val_accuracy: 0.8403 - val_loss: 0.4731 - learning_rate: 1.0000e-04\n",
      "Epoch 32/100\n",
      "\u001B[1m126/126\u001B[0m \u001B[32m━━━━━━━━━━━━━━━━━━━━\u001B[0m\u001B[37m\u001B[0m \u001B[1m29s\u001B[0m 228ms/step - accuracy: 0.9007 - loss: 0.3034 - val_accuracy: 0.8275 - val_loss: 0.4727 - learning_rate: 1.0000e-04\n",
      "Epoch 33/100\n",
      "\u001B[1m126/126\u001B[0m \u001B[32m━━━━━━━━━━━━━━━━━━━━\u001B[0m\u001B[37m\u001B[0m \u001B[1m28s\u001B[0m 222ms/step - accuracy: 0.9063 - loss: 0.3177 - val_accuracy: 0.8252 - val_loss: 0.4868 - learning_rate: 1.0000e-04\n",
      "Epoch 34/100\n",
      "\u001B[1m126/126\u001B[0m \u001B[32m━━━━━━━━━━━━━━━━━━━━\u001B[0m\u001B[37m\u001B[0m \u001B[1m28s\u001B[0m 219ms/step - accuracy: 0.9074 - loss: 0.2968 - val_accuracy: 0.8298 - val_loss: 0.4825 - learning_rate: 1.0000e-04\n",
      "Epoch 35/100\n",
      "\u001B[1m126/126\u001B[0m \u001B[32m━━━━━━━━━━━━━━━━━━━━\u001B[0m\u001B[37m\u001B[0m \u001B[1m25s\u001B[0m 199ms/step - accuracy: 0.9091 - loss: 0.2934 - val_accuracy: 0.8322 - val_loss: 0.4759 - learning_rate: 1.0000e-04\n",
      "Epoch 36/100\n",
      "\u001B[1m126/126\u001B[0m \u001B[32m━━━━━━━━━━━━━━━━━━━━\u001B[0m\u001B[37m\u001B[0m \u001B[1m26s\u001B[0m 206ms/step - accuracy: 0.9105 - loss: 0.2820 - val_accuracy: 0.8193 - val_loss: 0.4860 - learning_rate: 1.0000e-04\n",
      "Epoch 37/100\n",
      "\u001B[1m126/126\u001B[0m \u001B[32m━━━━━━━━━━━━━━━━━━━━\u001B[0m\u001B[37m\u001B[0m \u001B[1m29s\u001B[0m 228ms/step - accuracy: 0.9169 - loss: 0.2763 - val_accuracy: 0.8240 - val_loss: 0.4856 - learning_rate: 1.0000e-04\n",
      "Epoch 38/100\n",
      "\u001B[1m126/126\u001B[0m \u001B[32m━━━━━━━━━━━━━━━━━━━━\u001B[0m\u001B[37m\u001B[0m \u001B[1m27s\u001B[0m 210ms/step - accuracy: 0.9210 - loss: 0.2546 - val_accuracy: 0.8438 - val_loss: 0.4600 - learning_rate: 2.0000e-05\n",
      "Epoch 39/100\n",
      "\u001B[1m126/126\u001B[0m \u001B[32m━━━━━━━━━━━━━━━━━━━━\u001B[0m\u001B[37m\u001B[0m \u001B[1m27s\u001B[0m 214ms/step - accuracy: 0.9298 - loss: 0.2394 - val_accuracy: 0.8392 - val_loss: 0.4524 - learning_rate: 2.0000e-05\n",
      "Epoch 40/100\n",
      "\u001B[1m126/126\u001B[0m \u001B[32m━━━━━━━━━━━━━━━━━━━━\u001B[0m\u001B[37m\u001B[0m \u001B[1m29s\u001B[0m 228ms/step - accuracy: 0.9198 - loss: 0.2531 - val_accuracy: 0.8450 - val_loss: 0.4450 - learning_rate: 2.0000e-05\n",
      "Epoch 41/100\n",
      "\u001B[1m126/126\u001B[0m \u001B[32m━━━━━━━━━━━━━━━━━━━━\u001B[0m\u001B[37m\u001B[0m \u001B[1m31s\u001B[0m 241ms/step - accuracy: 0.9224 - loss: 0.2459 - val_accuracy: 0.8310 - val_loss: 0.4619 - learning_rate: 2.0000e-05\n",
      "Epoch 42/100\n",
      "\u001B[1m126/126\u001B[0m \u001B[32m━━━━━━━━━━━━━━━━━━━━\u001B[0m\u001B[37m\u001B[0m \u001B[1m32s\u001B[0m 254ms/step - accuracy: 0.9261 - loss: 0.2450 - val_accuracy: 0.8415 - val_loss: 0.4447 - learning_rate: 2.0000e-05\n",
      "Epoch 43/100\n",
      "\u001B[1m126/126\u001B[0m \u001B[32m━━━━━━━━━━━━━━━━━━━━\u001B[0m\u001B[37m\u001B[0m \u001B[1m31s\u001B[0m 243ms/step - accuracy: 0.9321 - loss: 0.2370 - val_accuracy: 0.8415 - val_loss: 0.4572 - learning_rate: 2.0000e-05\n",
      "Epoch 44/100\n",
      "\u001B[1m126/126\u001B[0m \u001B[32m━━━━━━━━━━━━━━━━━━━━\u001B[0m\u001B[37m\u001B[0m \u001B[1m29s\u001B[0m 226ms/step - accuracy: 0.9220 - loss: 0.2430 - val_accuracy: 0.8322 - val_loss: 0.4510 - learning_rate: 2.0000e-05\n",
      "Epoch 45/100\n",
      "\u001B[1m126/126\u001B[0m \u001B[32m━━━━━━━━━━━━━━━━━━━━\u001B[0m\u001B[37m\u001B[0m \u001B[1m28s\u001B[0m 217ms/step - accuracy: 0.9308 - loss: 0.2377 - val_accuracy: 0.8322 - val_loss: 0.4654 - learning_rate: 2.0000e-05\n",
      "Epoch 46/100\n",
      "\u001B[1m126/126\u001B[0m \u001B[32m━━━━━━━━━━━━━━━━━━━━\u001B[0m\u001B[37m\u001B[0m \u001B[1m26s\u001B[0m 200ms/step - accuracy: 0.9307 - loss: 0.2267 - val_accuracy: 0.8287 - val_loss: 0.4730 - learning_rate: 2.0000e-05\n",
      "Epoch 47/100\n",
      "\u001B[1m126/126\u001B[0m \u001B[32m━━━━━━━━━━━━━━━━━━━━\u001B[0m\u001B[37m\u001B[0m \u001B[1m28s\u001B[0m 216ms/step - accuracy: 0.9302 - loss: 0.2289 - val_accuracy: 0.8462 - val_loss: 0.4342 - learning_rate: 2.0000e-05\n",
      "Epoch 48/100\n",
      "\u001B[1m126/126\u001B[0m \u001B[32m━━━━━━━━━━━━━━━━━━━━\u001B[0m\u001B[37m\u001B[0m \u001B[1m26s\u001B[0m 206ms/step - accuracy: 0.9272 - loss: 0.2297 - val_accuracy: 0.8240 - val_loss: 0.4634 - learning_rate: 2.0000e-05\n",
      "Epoch 49/100\n",
      "\u001B[1m126/126\u001B[0m \u001B[32m━━━━━━━━━━━━━━━━━━━━\u001B[0m\u001B[37m\u001B[0m \u001B[1m25s\u001B[0m 193ms/step - accuracy: 0.9220 - loss: 0.2329 - val_accuracy: 0.8427 - val_loss: 0.4391 - learning_rate: 2.0000e-05\n",
      "Epoch 50/100\n",
      "\u001B[1m126/126\u001B[0m \u001B[32m━━━━━━━━━━━━━━━━━━━━\u001B[0m\u001B[37m\u001B[0m \u001B[1m24s\u001B[0m 186ms/step - accuracy: 0.9393 - loss: 0.2215 - val_accuracy: 0.8322 - val_loss: 0.4661 - learning_rate: 2.0000e-05\n",
      "Epoch 51/100\n",
      "\u001B[1m126/126\u001B[0m \u001B[32m━━━━━━━━━━━━━━━━━━━━\u001B[0m\u001B[37m\u001B[0m \u001B[1m25s\u001B[0m 193ms/step - accuracy: 0.9316 - loss: 0.2242 - val_accuracy: 0.8298 - val_loss: 0.4721 - learning_rate: 2.0000e-05\n",
      "Epoch 52/100\n",
      "\u001B[1m126/126\u001B[0m \u001B[32m━━━━━━━━━━━━━━━━━━━━\u001B[0m\u001B[37m\u001B[0m \u001B[1m24s\u001B[0m 190ms/step - accuracy: 0.9309 - loss: 0.2290 - val_accuracy: 0.8427 - val_loss: 0.4334 - learning_rate: 2.0000e-05\n",
      "Epoch 53/100\n",
      "\u001B[1m126/126\u001B[0m \u001B[32m━━━━━━━━━━━━━━━━━━━━\u001B[0m\u001B[37m\u001B[0m \u001B[1m27s\u001B[0m 214ms/step - accuracy: 0.9299 - loss: 0.2279 - val_accuracy: 0.8392 - val_loss: 0.4436 - learning_rate: 2.0000e-05\n",
      "Epoch 54/100\n",
      "\u001B[1m126/126\u001B[0m \u001B[32m━━━━━━━━━━━━━━━━━━━━\u001B[0m\u001B[37m\u001B[0m \u001B[1m27s\u001B[0m 211ms/step - accuracy: 0.9278 - loss: 0.2230 - val_accuracy: 0.8497 - val_loss: 0.4272 - learning_rate: 2.0000e-05\n",
      "Epoch 55/100\n",
      "\u001B[1m126/126\u001B[0m \u001B[32m━━━━━━━━━━━━━━━━━━━━\u001B[0m\u001B[37m\u001B[0m \u001B[1m25s\u001B[0m 197ms/step - accuracy: 0.9341 - loss: 0.2212 - val_accuracy: 0.8392 - val_loss: 0.4574 - learning_rate: 2.0000e-05\n",
      "Epoch 56/100\n",
      "\u001B[1m126/126\u001B[0m \u001B[32m━━━━━━━━━━━━━━━━━━━━\u001B[0m\u001B[37m\u001B[0m \u001B[1m26s\u001B[0m 204ms/step - accuracy: 0.9294 - loss: 0.2180 - val_accuracy: 0.8287 - val_loss: 0.4598 - learning_rate: 2.0000e-05\n",
      "Epoch 57/100\n",
      "\u001B[1m126/126\u001B[0m \u001B[32m━━━━━━━━━━━━━━━━━━━━\u001B[0m\u001B[37m\u001B[0m \u001B[1m26s\u001B[0m 206ms/step - accuracy: 0.9361 - loss: 0.2088 - val_accuracy: 0.8368 - val_loss: 0.4371 - learning_rate: 2.0000e-05\n",
      "Epoch 58/100\n",
      "\u001B[1m126/126\u001B[0m \u001B[32m━━━━━━━━━━━━━━━━━━━━\u001B[0m\u001B[37m\u001B[0m \u001B[1m29s\u001B[0m 228ms/step - accuracy: 0.9338 - loss: 0.2137 - val_accuracy: 0.8438 - val_loss: 0.4441 - learning_rate: 2.0000e-05\n",
      "Epoch 59/100\n",
      "\u001B[1m126/126\u001B[0m \u001B[32m━━━━━━━━━━━━━━━━━━━━\u001B[0m\u001B[37m\u001B[0m \u001B[1m28s\u001B[0m 221ms/step - accuracy: 0.9413 - loss: 0.2123 - val_accuracy: 0.8427 - val_loss: 0.4322 - learning_rate: 2.0000e-05\n",
      "Epoch 60/100\n",
      "\u001B[1m126/126\u001B[0m \u001B[32m━━━━━━━━━━━━━━━━━━━━\u001B[0m\u001B[37m\u001B[0m \u001B[1m29s\u001B[0m 229ms/step - accuracy: 0.9362 - loss: 0.2147 - val_accuracy: 0.8345 - val_loss: 0.4627 - learning_rate: 1.0000e-05\n",
      "Epoch 61/100\n",
      "\u001B[1m126/126\u001B[0m \u001B[32m━━━━━━━━━━━━━━━━━━━━\u001B[0m\u001B[37m\u001B[0m \u001B[1m29s\u001B[0m 229ms/step - accuracy: 0.9368 - loss: 0.2062 - val_accuracy: 0.8415 - val_loss: 0.4425 - learning_rate: 1.0000e-05\n",
      "Epoch 62/100\n",
      "\u001B[1m126/126\u001B[0m \u001B[32m━━━━━━━━━━━━━━━━━━━━\u001B[0m\u001B[37m\u001B[0m \u001B[1m29s\u001B[0m 224ms/step - accuracy: 0.9354 - loss: 0.2168 - val_accuracy: 0.8473 - val_loss: 0.4148 - learning_rate: 1.0000e-05\n",
      "Epoch 63/100\n",
      "\u001B[1m126/126\u001B[0m \u001B[32m━━━━━━━━━━━━━━━━━━━━\u001B[0m\u001B[37m\u001B[0m \u001B[1m28s\u001B[0m 220ms/step - accuracy: 0.9374 - loss: 0.2103 - val_accuracy: 0.8392 - val_loss: 0.4486 - learning_rate: 1.0000e-05\n",
      "Epoch 64/100\n",
      "\u001B[1m126/126\u001B[0m \u001B[32m━━━━━━━━━━━━━━━━━━━━\u001B[0m\u001B[37m\u001B[0m \u001B[1m28s\u001B[0m 217ms/step - accuracy: 0.9367 - loss: 0.2132 - val_accuracy: 0.8497 - val_loss: 0.4153 - learning_rate: 1.0000e-05\n",
      "Epoch 65/100\n",
      "\u001B[1m126/126\u001B[0m \u001B[32m━━━━━━━━━━━━━━━━━━━━\u001B[0m\u001B[37m\u001B[0m \u001B[1m27s\u001B[0m 210ms/step - accuracy: 0.9295 - loss: 0.2180 - val_accuracy: 0.8392 - val_loss: 0.4620 - learning_rate: 1.0000e-05\n",
      "Epoch 66/100\n",
      "\u001B[1m126/126\u001B[0m \u001B[32m━━━━━━━━━━━━━━━━━━━━\u001B[0m\u001B[37m\u001B[0m \u001B[1m28s\u001B[0m 222ms/step - accuracy: 0.9407 - loss: 0.2056 - val_accuracy: 0.8462 - val_loss: 0.4302 - learning_rate: 1.0000e-05\n",
      "Epoch 67/100\n",
      "\u001B[1m126/126\u001B[0m \u001B[32m━━━━━━━━━━━━━━━━━━━━\u001B[0m\u001B[37m\u001B[0m \u001B[1m27s\u001B[0m 210ms/step - accuracy: 0.9374 - loss: 0.1972 - val_accuracy: 0.8450 - val_loss: 0.4274 - learning_rate: 1.0000e-05\n",
      "Epoch 68/100\n",
      "\u001B[1m126/126\u001B[0m \u001B[32m━━━━━━━━━━━━━━━━━━━━\u001B[0m\u001B[37m\u001B[0m \u001B[1m31s\u001B[0m 245ms/step - accuracy: 0.9351 - loss: 0.2138 - val_accuracy: 0.8450 - val_loss: 0.4284 - learning_rate: 1.0000e-05\n",
      "Epoch 69/100\n",
      "\u001B[1m126/126\u001B[0m \u001B[32m━━━━━━━━━━━━━━━━━━━━\u001B[0m\u001B[37m\u001B[0m \u001B[1m31s\u001B[0m 244ms/step - accuracy: 0.9441 - loss: 0.1982 - val_accuracy: 0.8520 - val_loss: 0.4286 - learning_rate: 1.0000e-05\n",
      "Epoch 70/100\n",
      "\u001B[1m126/126\u001B[0m \u001B[32m━━━━━━━━━━━━━━━━━━━━\u001B[0m\u001B[37m\u001B[0m \u001B[1m30s\u001B[0m 231ms/step - accuracy: 0.9376 - loss: 0.2080 - val_accuracy: 0.8415 - val_loss: 0.4501 - learning_rate: 1.0000e-05\n",
      "Epoch 71/100\n",
      "\u001B[1m126/126\u001B[0m \u001B[32m━━━━━━━━━━━━━━━━━━━━\u001B[0m\u001B[37m\u001B[0m \u001B[1m31s\u001B[0m 244ms/step - accuracy: 0.9397 - loss: 0.2006 - val_accuracy: 0.8531 - val_loss: 0.4187 - learning_rate: 1.0000e-05\n",
      "Epoch 72/100\n",
      "\u001B[1m126/126\u001B[0m \u001B[32m━━━━━━━━━━━━━━━━━━━━\u001B[0m\u001B[37m\u001B[0m \u001B[1m29s\u001B[0m 225ms/step - accuracy: 0.9451 - loss: 0.2012 - val_accuracy: 0.8403 - val_loss: 0.4403 - learning_rate: 1.0000e-05\n"
     ]
    }
   ],
   "source": [
    "# Train the model\n",
    "history = model.fit(data, validation_data=val_data, epochs=100, callbacks=[early_stopping, reduce_lr])"
   ],
   "metadata": {
    "collapsed": false,
    "ExecuteTime": {
     "end_time": "2024-06-05T18:30:31.918813Z",
     "start_time": "2024-06-05T17:58:52.977711Z"
    }
   },
   "id": "e9a698bfdf99e5bc",
   "execution_count": 18
  },
  {
   "cell_type": "code",
   "outputs": [],
   "source": [
    "# Unfreeze some layers in the base model for fine-tuning\n",
    "base_model.trainable = True\n",
    "fine_tune_at = 100  # Fine-tune from this layer onwards\n",
    "\n",
    "for layer in base_model.layers[:fine_tune_at]:\n",
    "    layer.trainable = False\n",
    "\n",
    "model.compile(optimizer=tf.keras.optimizers.Adam(learning_rate=0.00001), loss='categorical_crossentropy', metrics=['accuracy'])"
   ],
   "metadata": {
    "collapsed": false,
    "ExecuteTime": {
     "end_time": "2024-06-05T18:30:31.955211Z",
     "start_time": "2024-06-05T18:30:31.927349Z"
    }
   },
   "id": "ee478b5a1da30bd6",
   "execution_count": 19
  },
  {
   "cell_type": "code",
   "outputs": [
    {
     "name": "stdout",
     "output_type": "stream",
     "text": [
      "Epoch 1/100\n",
      "\u001B[1m126/126\u001B[0m \u001B[32m━━━━━━━━━━━━━━━━━━━━\u001B[0m\u001B[37m\u001B[0m \u001B[1m37s\u001B[0m 257ms/step - accuracy: 0.3714 - loss: 3.5413 - val_accuracy: 0.8065 - val_loss: 0.5405 - learning_rate: 1.0000e-05\n",
      "Epoch 2/100\n",
      "\u001B[1m126/126\u001B[0m \u001B[32m━━━━━━━━━━━━━━━━━━━━\u001B[0m\u001B[37m\u001B[0m \u001B[1m31s\u001B[0m 241ms/step - accuracy: 0.4756 - loss: 2.1735 - val_accuracy: 0.7552 - val_loss: 0.6657 - learning_rate: 1.0000e-05\n",
      "Epoch 3/100\n",
      "\u001B[1m126/126\u001B[0m \u001B[32m━━━━━━━━━━━━━━━━━━━━\u001B[0m\u001B[37m\u001B[0m \u001B[1m30s\u001B[0m 234ms/step - accuracy: 0.5215 - loss: 1.7492 - val_accuracy: 0.7203 - val_loss: 0.8255 - learning_rate: 1.0000e-05\n",
      "Epoch 4/100\n",
      "\u001B[1m126/126\u001B[0m \u001B[32m━━━━━━━━━━━━━━━━━━━━\u001B[0m\u001B[37m\u001B[0m \u001B[1m30s\u001B[0m 236ms/step - accuracy: 0.5912 - loss: 1.4222 - val_accuracy: 0.6585 - val_loss: 1.0543 - learning_rate: 1.0000e-05\n",
      "Epoch 5/100\n",
      "\u001B[1m126/126\u001B[0m \u001B[32m━━━━━━━━━━━━━━━━━━━━\u001B[0m\u001B[37m\u001B[0m \u001B[1m0s\u001B[0m 215ms/step - accuracy: 0.6286 - loss: 1.2347"
     ]
    }
   ],
   "source": [
    "# Continue training the model\n",
    "history_fine = model.fit(data, validation_data=val_data, epochs=100, callbacks=[early_stopping, reduce_lr])"
   ],
   "metadata": {
    "collapsed": false,
    "is_executing": true,
    "ExecuteTime": {
     "start_time": "2024-06-05T18:39:18.586826Z"
    }
   },
   "id": "618fee2bfd46d5b4"
  },
  {
   "cell_type": "code",
   "outputs": [],
   "source": [
    "# Plot the training history\n",
    "def plot_history(history, title):\n",
    "    fig, (ax1, ax2) = plt.subplots(1, 2, figsize=(12, 4))\n",
    "    ax1.plot(history.history['accuracy'], label='Train Accuracy')\n",
    "    ax1.plot(history.history['val_accuracy'], label='Validation Accuracy')\n",
    "    ax1.legend()\n",
    "    ax1.set_title(f'{title} - Accuracy')\n",
    "\n",
    "    ax2.plot(history.history['loss'], label='Train Loss')\n",
    "    ax2.plot(history.history['val_loss'], label='Validation Loss')\n",
    "    ax2.legend()\n",
    "    ax2.set_title(f'{title} - Loss')\n",
    "\n",
    "    plt.show()\n",
    "\n",
    "plot_history(history, 'Initial Training')\n",
    "plot_history(history_fine, 'Fine-tuning')"
   ],
   "metadata": {
    "collapsed": false
   },
   "id": "ebd535267286c460"
  },
  {
   "cell_type": "code",
   "outputs": [],
   "source": [
    "# Evaluate the model on the validation set\n",
    "val_loss, val_accuracy = model.evaluate(val_data)\n",
    "print(f'Validation Accuracy: {val_accuracy * 100:.2f}%')\n",
    "\n",
    "# Evaluate the model on the test set\n",
    "test_loss, test_accuracy = model.evaluate(test_data)\n",
    "print(f'Test Accuracy: {test_accuracy * 100:.2f}%')"
   ],
   "metadata": {
    "collapsed": false
   },
   "id": "fa46a0db5c82bcfb"
  },
  {
   "cell_type": "code",
   "outputs": [],
   "source": [
    "# Generate confusion matrix for the test set\n",
    "test_data_unbatched = test_data.unbatch()\n",
    "y_pred = []\n",
    "y_true = []\n",
    "\n",
    "for x, y in test_data_unbatched:\n",
    "    x = tf.expand_dims(x, axis=0)\n",
    "    pred = model.predict(x)\n",
    "    y_pred.append(np.argmax(pred))\n",
    "    y_true.append(np.argmax(y.numpy()))\n",
    "\n",
    "y_pred = np.array(y_pred)\n",
    "y_true = np.array(y_true)\n",
    "\n",
    "# Compute confusion matrix\n",
    "cm = confusion_matrix(y_true, y_pred)"
   ],
   "metadata": {
    "collapsed": false
   },
   "id": "4b5cb9d804bc05e5"
  },
  {
   "cell_type": "code",
   "outputs": [],
   "source": [
    "def plot_confusion_matrix(cm, classes, normalize=False, title='Confusion matrix', cmap=plt.cm.Blues):\n",
    "    if normalize:\n",
    "        cm = cm.astype('float') / cm.sum(axis=1)[:, np.newaxis]\n",
    "        print(\"Normalized confusion matrix\")\n",
    "    else:\n",
    "        print(\"Confusion matrix, without normalization\")\n",
    "        \n",
    "    plt.figure(figsize=(10, 8))\n",
    "    sns.heatmap(cm, annot=True, fmt='.2f' if normalize else 'd', cmap=cmap, xticklabels=classes, yticklabels=classes)\n",
    "    plt.title(title)\n",
    "    plt.ylabel('True label')\n",
    "    plt.xlabel('Predicted label')\n",
    "    plt.show()"
   ],
   "metadata": {
    "collapsed": false
   },
   "id": "13ccef913bb962ce"
  },
  {
   "cell_type": "code",
   "outputs": [],
   "source": [
    "# Plot non-normalized confusion matrix\n",
    "plot_confusion_matrix(cm, classes=class_names, title='Confusion matrix, without normalization')\n",
    "\n",
    "# Plot normalized confusion matrix\n",
    "plot_confusion_matrix(cm, classes=class_names, normalize=True, title='Normalized confusion matrix')"
   ],
   "metadata": {
    "collapsed": false
   },
   "id": "4ebaf718dc616d32"
  }
 ],
 "metadata": {
  "kernelspec": {
   "display_name": "Python 3",
   "language": "python",
   "name": "python3"
  },
  "language_info": {
   "codemirror_mode": {
    "name": "ipython",
    "version": 2
   },
   "file_extension": ".py",
   "mimetype": "text/x-python",
   "name": "python",
   "nbconvert_exporter": "python",
   "pygments_lexer": "ipython2",
   "version": "2.7.6"
  }
 },
 "nbformat": 4,
 "nbformat_minor": 5
}
